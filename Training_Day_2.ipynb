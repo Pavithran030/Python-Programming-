{
  "nbformat": 4,
  "nbformat_minor": 0,
  "metadata": {
    "colab": {
      "provenance": [],
      "authorship_tag": "ABX9TyNCKMhLjxLJCVrb+oKEgh6S",
      "include_colab_link": true
    },
    "kernelspec": {
      "name": "python3",
      "display_name": "Python 3"
    },
    "language_info": {
      "name": "python"
    }
  },
  "cells": [
    {
      "cell_type": "markdown",
      "metadata": {
        "id": "view-in-github",
        "colab_type": "text"
      },
      "source": [
        "<a href=\"https://colab.research.google.com/github/Pavithran030/Python-Programming-/blob/main/Training_Day_2.ipynb\" target=\"_parent\"><img src=\"https://colab.research.google.com/assets/colab-badge.svg\" alt=\"Open In Colab\"/></a>"
      ]
    },
    {
      "cell_type": "code",
      "execution_count": null,
      "metadata": {
        "colab": {
          "base_uri": "https://localhost:8080/"
        },
        "id": "Hd9t8DvwScWS",
        "outputId": "3c9e68d7-9c12-4c5c-e9ba-0463c8a8fcee"
      },
      "outputs": [
        {
          "output_type": "stream",
          "name": "stdout",
          "text": [
            "[1, 3, 5, 7, 9] \n",
            " [1, 9, 25, 49, 81] \n",
            " [2, 4, 6, 8, 10] \n",
            " [4, 16, 36, 64, 100]\n"
          ]
        }
      ],
      "source": [
        "# 1\n",
        "\n",
        "lst=[1,2,3,4,5,6,7,8,9,10]\n",
        "od,ev,od_sq,ev_sq=[],[],[],[]\n",
        "for i in lst:\n",
        "  if i%2==0:\n",
        "    ev.append(i)\n",
        "    ev_sq.append(i**2)\n",
        "  else:\n",
        "    od.append(i)\n",
        "    od_sq.append(i**2)\n",
        "print(od,\"\\n\",od_sq,\"\\n\",ev,\"\\n\",ev_sq)"
      ]
    },
    {
      "cell_type": "code",
      "source": [
        "# 2\n",
        "\n",
        "lst=[4,6,2,7,8,9]\n",
        "big=0\n",
        "small=0\n",
        "for i in lst:\n",
        "    if i>big:\n",
        "      big=i\n",
        "    else:\n",
        "      small=i\n",
        "print(f\"The biggest number is {big}\\nThe smallest number is {small}\")\n"
      ],
      "metadata": {
        "colab": {
          "base_uri": "https://localhost:8080/"
        },
        "id": "NqGEE4bnVdoc",
        "outputId": "bbfe80d0-567c-43fd-cda6-09d9a2424f04"
      },
      "execution_count": null,
      "outputs": [
        {
          "output_type": "stream",
          "name": "stdout",
          "text": [
            "The biggest number is 9\n",
            "The smallest number is 2\n"
          ]
        }
      ]
    },
    {
      "cell_type": "code",
      "source": [
        "# 3\n",
        "\n",
        "lst=[3,4,5,7,2,9]\n",
        "big=0\n",
        "small=0\n",
        "for i in lst:\n",
        "  if i>big:\n",
        "    big=i\n",
        "  else:\n",
        "    small=i\n",
        "print(f\"The second biggest number is {big}\\nThe second smallest number is {small}\")"
      ],
      "metadata": {
        "id": "AKaEdAZDb_aS",
        "colab": {
          "base_uri": "https://localhost:8080/"
        },
        "outputId": "c5a15b91-b7c8-4b39-c8b9-274854a1d2b9"
      },
      "execution_count": 5,
      "outputs": [
        {
          "output_type": "stream",
          "name": "stdout",
          "text": [
            "The second biggest number is 9\n",
            "The second smallest number is 2\n"
          ]
        }
      ]
    },
    {
      "cell_type": "code",
      "source": [
        "# 4\n",
        "\n",
        "lst=[3,5,2,1,4]\n",
        "lst1=lst\n",
        "k=len(lst)\n",
        "big=0\n",
        "for i in range(0,k):\n",
        "  for j in range(i,k):\n",
        "    if lst[i]>lst[j]:\n",
        "      tem=lst[i]\n",
        "      lst[i]=lst[j]\n",
        "      lst[j]=tem\n",
        "print(f\"Ascending  order :{lst}\")\n",
        "print(f\"Descending order :{lst[::-1]}\")"
      ],
      "metadata": {
        "colab": {
          "base_uri": "https://localhost:8080/"
        },
        "id": "hAd-q5nsd2T8",
        "outputId": "3ec8661e-65d5-4f22-faef-09c33a764515"
      },
      "execution_count": 4,
      "outputs": [
        {
          "output_type": "stream",
          "name": "stdout",
          "text": [
            "Ascending  order :[1, 2, 3, 4, 5]\n",
            "Descending order :[5, 4, 3, 2, 1]\n"
          ]
        }
      ]
    },
    {
      "cell_type": "code",
      "source": [
        "# 5\n",
        "\n",
        "lt=[45,67,83,24,55,87,77,34]\n",
        "k=int(input(\"Enter the number to find the position :\"))\n",
        "c=0\n",
        "for n in lt:\n",
        "  c+=1\n",
        "  if n==k:\n",
        "    break\n",
        "print(f\"The Position of {k} is {c-1}\")"
      ],
      "metadata": {
        "colab": {
          "base_uri": "https://localhost:8080/"
        },
        "id": "0qJh-85he788",
        "outputId": "9d5c6fe2-1f7d-42b4-89c4-2aab87f87171"
      },
      "execution_count": 6,
      "outputs": [
        {
          "output_type": "stream",
          "name": "stdout",
          "text": [
            "Enter the number to find the position :87\n",
            "The Position of 87 is 5\n"
          ]
        }
      ]
    },
    {
      "cell_type": "code",
      "source": [
        "# 6\n",
        "\n",
        "list1 = [4, 5, 6, 4, 6, 7, 4, 2, 4, 8, 4]\n",
        "dict1 = {}\n",
        "for el in list1:\n",
        "  if el in dict1:\n",
        "    dict1[el] += 1\n",
        "  else:\n",
        "    dict1[el] = 1\n",
        "max_value = max(dict1.values())\n",
        "max_key = max(dict1, key=dict1.get)\n",
        "\n",
        "print(\"The most frequent element is:\", max_key)"
      ],
      "metadata": {
        "colab": {
          "base_uri": "https://localhost:8080/"
        },
        "id": "y5WBjijsgA4F",
        "outputId": "c7429629-83e3-43c8-b5fb-39a2275fe1c1"
      },
      "execution_count": 2,
      "outputs": [
        {
          "output_type": "stream",
          "name": "stdout",
          "text": [
            "The most frequent element is: 4\n"
          ]
        }
      ]
    },
    {
      "cell_type": "code",
      "source": [
        "# 7\n",
        "\n",
        "di={}\n",
        "k= ['Ten', 'Twenty', 'Thirty']\n",
        "v= [10, 20, 30]\n",
        "for i in range(len(k)):\n",
        "  di[k[i]]=v[i]\n",
        "print(di)\n"
      ],
      "metadata": {
        "colab": {
          "base_uri": "https://localhost:8080/"
        },
        "id": "z5x-QBLKjV6G",
        "outputId": "39d79326-e4ad-4fc4-8aff-8861e2423d90"
      },
      "execution_count": null,
      "outputs": [
        {
          "output_type": "stream",
          "name": "stdout",
          "text": [
            "{'Ten': 10, 'Twenty': 20, 'Thirty': 30}\n"
          ]
        }
      ]
    },
    {
      "cell_type": "code",
      "source": [
        "# 8\n",
        "voters=['ravi','rahul','ram','sharan','jevi','sakthi','praveen','naveen','logesh','verma']\n",
        "can=['Dhoni','Rohit','Virat','NOTA']\n",
        "dho,roh,vir,no=0,0,0,0\n",
        "for i in range(0,len(voters)):\n",
        "    print(\"Your vote for ..1.Dhoni 2.Virat 3.Rohit 4.NOTA\")\n",
        "    k=int(input(\"choice the candiate number :\"))\n",
        "    match k:\n",
        "        case 1:\n",
        "            dho+=1\n",
        "        case 2:\n",
        "            vir+=1\n",
        "        case 3:\n",
        "            roh+=1\n",
        "        case 4:\n",
        "            no+=1\n",
        "        case _:\n",
        "            pass\n",
        "\n",
        "k=max(dho,vir,roh,no)\n",
        "lk=list[dho,vir,roh,no]\n",
        "print(lk)\n",
        "# m1=lk.sort()\n",
        "print(m1)\n",
        "if k==dho:\n",
        "    print(f\"The winner in the Election is Dhoni with {k} votes\")\n",
        "elif k==vir:\n",
        "    print(f\"The winner in the Election is Virat with {k} votes\")\n",
        "elif k==roh:\n",
        "    print(f\"The winner in the Election is Rohit with {k} votes\")\n",
        "elif k==no:\n",
        "    print(f\"The winner in the Election is NOTA with {k} votes\")\n",
        "# print(f\"The winner in the Election is {}\")"
      ],
      "metadata": {
        "id": "LSkOvb_QkUZy"
      },
      "execution_count": null,
      "outputs": []
    },
    {
      "cell_type": "code",
      "source": [
        "# 9\n",
        "\n",
        "def rupee_to_dollar(rupees):\n",
        "  dollars = rupees / 74.50\n",
        "  return dollars\n",
        "def celsius_to_fahrenheit(celsius):\n",
        "  fahrenheit = (celsius * 1.8) + 32\n",
        "  return fahrenheit\n",
        "def bmi_calculation(weight, height):\n",
        "  bmi = weight / (height * height)\n",
        "  return bmi\n",
        "def simple_interest(principal, rate, time):\n",
        "\n",
        "  interest = (principal * rate * time) / 100\n",
        "  return interest\n",
        "rupees = 1000\n",
        "dollars = rupee_to_dollar(rupees)\n",
        "print(f\"{rupees} Rupees is equal to {dollars:.2f} Dollars\")\n",
        "\n",
        "celsius = 25\n",
        "fahrenheit = celsius_to_fahrenheit(celsius)\n",
        "print(f\"{celsius}°C is equal to {fahrenheit:.1f}°F\")\n",
        "\n",
        "weight = 65\n",
        "height = 1.75\n",
        "bmi = bmi_calculation(weight, height)\n",
        "print(f\"BMI is {bmi:.2f}\")\n",
        "\n",
        "principal = 10000\n",
        "rate = 5\n",
        "time = 2\n",
        "interest = simple_interest(principal, rate, time)\n"
      ],
      "metadata": {
        "colab": {
          "base_uri": "https://localhost:8080/"
        },
        "id": "drEJeHcMmkwL",
        "outputId": "24420785-18db-4868-b042-e9d7177fee60"
      },
      "execution_count": null,
      "outputs": [
        {
          "output_type": "stream",
          "name": "stdout",
          "text": [
            "1000 Rupees is equal to 13.42 Dollars\n",
            "25°C is equal to 77.0°F\n",
            "BMI is 21.22\n"
          ]
        }
      ]
    },
    {
      "cell_type": "code",
      "source": [
        "# 10\n",
        "\n",
        "inpu= [0,1,0,1,1,0,1,0,1,0]\n",
        "k=len(inpu)\n",
        "lst=[]\n",
        "for i in inpu:\n",
        "  if i==0:\n",
        "    lst.append(i)\n",
        "j=len(lst)\n",
        "for i in range(0,j):\n",
        "  lst.append(1)\n",
        "\n",
        "print(lst)"
      ],
      "metadata": {
        "colab": {
          "base_uri": "https://localhost:8080/"
        },
        "id": "5EDE5C5ovw6q",
        "outputId": "e298ad68-79f0-4c53-a53b-4df3e999833f"
      },
      "execution_count": null,
      "outputs": [
        {
          "output_type": "stream",
          "name": "stdout",
          "text": [
            "[0, 0, 0, 0, 0, 1, 1, 1, 1, 1]\n"
          ]
        }
      ]
    }
  ]
}